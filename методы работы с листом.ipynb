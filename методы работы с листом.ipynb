{
 "cells": [
  {
   "cell_type": "markdown",
   "id": "0fd57f61",
   "metadata": {},
   "source": [
    "### Лист"
   ]
  },
  {
   "cell_type": "markdown",
   "id": "91c0a12c",
   "metadata": {},
   "source": [
    "Списки (list):\n",
    "\n",
    "Можно изменять их содержимое после создания.\n",
    "Можно добавлять, удалять или изменять элементы."
   ]
  },
  {
   "cell_type": "code",
   "execution_count": 1,
   "id": "69e66222",
   "metadata": {},
   "outputs": [],
   "source": [
    "# Создание пустого списка\n",
    "empty_list = []"
   ]
  },
  {
   "cell_type": "code",
   "execution_count": 2,
   "id": "897a51e8",
   "metadata": {},
   "outputs": [],
   "source": [
    "# Создание списка с элементами\n",
    "numbers = [1, 2, 3, 4, 5]"
   ]
  },
  {
   "cell_type": "code",
   "execution_count": 3,
   "id": "422da929",
   "metadata": {},
   "outputs": [
    {
     "data": {
      "text/plain": [
       "1"
      ]
     },
     "execution_count": 3,
     "metadata": {},
     "output_type": "execute_result"
    }
   ],
   "source": [
    "# Доступ к элементам по индексу\n",
    "first_element = numbers[0]  # первый элемент\n",
    "first_element"
   ]
  },
  {
   "cell_type": "code",
   "execution_count": 4,
   "id": "faaa6484",
   "metadata": {},
   "outputs": [
    {
     "data": {
      "text/plain": [
       "5"
      ]
     },
     "execution_count": 4,
     "metadata": {},
     "output_type": "execute_result"
    }
   ],
   "source": [
    "# последний элемент\n",
    "last_element = numbers[-1] \n",
    "last_element"
   ]
  },
  {
   "cell_type": "code",
   "execution_count": 5,
   "id": "3e95ddda",
   "metadata": {},
   "outputs": [
    {
     "data": {
      "text/plain": [
       "[1, 2, 10, 4, 5]"
      ]
     },
     "execution_count": 5,
     "metadata": {},
     "output_type": "execute_result"
    }
   ],
   "source": [
    "# Изменение элемента по индексу\n",
    "numbers[2] = 10  \n",
    "numbers"
   ]
  },
  {
   "cell_type": "code",
   "execution_count": 6,
   "id": "64b9a746",
   "metadata": {},
   "outputs": [
    {
     "data": {
      "text/plain": [
       "[1, 2, 3, 4, 5]"
      ]
     },
     "execution_count": 6,
     "metadata": {},
     "output_type": "execute_result"
    }
   ],
   "source": [
    "numbers[2] = 3  \n",
    "numbers"
   ]
  },
  {
   "cell_type": "markdown",
   "id": "034ee6c2",
   "metadata": {},
   "source": [
    "#### Срезы"
   ]
  },
  {
   "cell_type": "code",
   "execution_count": 7,
   "id": "1a05f533",
   "metadata": {},
   "outputs": [
    {
     "data": {
      "text/plain": [
       "[2, 3]"
      ]
     },
     "execution_count": 7,
     "metadata": {},
     "output_type": "execute_result"
    }
   ],
   "source": [
    "# Срез списка (начало включительно, конец не включительно)\n",
    "sub_list = numbers[1:3]  \n",
    "sub_list"
   ]
  },
  {
   "cell_type": "code",
   "execution_count": 8,
   "id": "6eb233f1",
   "metadata": {},
   "outputs": [
    {
     "data": {
      "text/plain": [
       "[1, 3, 5]"
      ]
     },
     "execution_count": 8,
     "metadata": {},
     "output_type": "execute_result"
    }
   ],
   "source": [
    "# Срез с шагом\n",
    "step_list = numbers[::2]  # шаг два\n",
    "step_list"
   ]
  },
  {
   "cell_type": "code",
   "execution_count": 9,
   "id": "faf23a12",
   "metadata": {},
   "outputs": [
    {
     "data": {
      "text/plain": [
       "[1, 2, 3]"
      ]
     },
     "execution_count": 9,
     "metadata": {},
     "output_type": "execute_result"
    }
   ],
   "source": [
    "# Срез от начала до определенного индекса\n",
    "start_slice = numbers[:3]  # конец не включительно\n",
    "start_slice"
   ]
  },
  {
   "cell_type": "code",
   "execution_count": 10,
   "id": "696610d3",
   "metadata": {},
   "outputs": [
    {
     "data": {
      "text/plain": [
       "[4, 5]"
      ]
     },
     "execution_count": 10,
     "metadata": {},
     "output_type": "execute_result"
    }
   ],
   "source": [
    "# Срез от определенного индекса до конца\n",
    "end_slice = numbers[3:]  # первый элемент в срезе включается\n",
    "end_slice"
   ]
  },
  {
   "cell_type": "markdown",
   "id": "944cffd3",
   "metadata": {},
   "source": [
    "#### Добавление элементов"
   ]
  },
  {
   "cell_type": "code",
   "execution_count": 11,
   "id": "3d57e1fe",
   "metadata": {},
   "outputs": [
    {
     "data": {
      "text/plain": [
       "[1, 2, 3, 4, 5, 6]"
      ]
     },
     "execution_count": 11,
     "metadata": {},
     "output_type": "execute_result"
    }
   ],
   "source": [
    "# Добавление одного элемента в конец списка\n",
    "numbers.append(6)  \n",
    "numbers"
   ]
  },
  {
   "cell_type": "code",
   "execution_count": 12,
   "id": "6044fba6",
   "metadata": {},
   "outputs": [
    {
     "data": {
      "text/plain": [
       "[1, 2, 3, 4, 5, 6, 7, 8]"
      ]
     },
     "execution_count": 12,
     "metadata": {},
     "output_type": "execute_result"
    }
   ],
   "source": [
    "# Добавление нескольких элементов в конец списка\n",
    "numbers.extend([7, 8])  # добавляется лист\n",
    "numbers"
   ]
  },
  {
   "cell_type": "code",
   "execution_count": 13,
   "id": "0260759e",
   "metadata": {},
   "outputs": [
    {
     "data": {
      "text/plain": [
       "[1, 2, 3, 3, 4, 5, 6, 7, 8]"
      ]
     },
     "execution_count": 13,
     "metadata": {},
     "output_type": "execute_result"
    }
   ],
   "source": [
    "# Вставка элемента по индексу\n",
    "numbers.insert(2, 3)  \n",
    "numbers"
   ]
  },
  {
   "cell_type": "markdown",
   "id": "bdc305a3",
   "metadata": {},
   "source": [
    "#### Удаление"
   ]
  },
  {
   "cell_type": "code",
   "execution_count": 14,
   "id": "8cfece8a",
   "metadata": {},
   "outputs": [
    {
     "data": {
      "text/plain": [
       "[2, 3, 3, 4, 5, 6, 7, 8]"
      ]
     },
     "execution_count": 14,
     "metadata": {},
     "output_type": "execute_result"
    }
   ],
   "source": [
    "# Удаление элемента по значению\n",
    "numbers.remove(1) \n",
    "numbers"
   ]
  },
  {
   "cell_type": "code",
   "execution_count": 15,
   "id": "9da8b740",
   "metadata": {},
   "outputs": [
    {
     "data": {
      "text/plain": [
       "[2, 3, 4, 5, 6, 7, 8]"
      ]
     },
     "execution_count": 15,
     "metadata": {},
     "output_type": "execute_result"
    }
   ],
   "source": [
    "# Удаление элемента по значению, удалим дубликат\n",
    "numbers.remove(3) \n",
    "numbers"
   ]
  },
  {
   "cell_type": "code",
   "execution_count": 16,
   "id": "9bbc9846",
   "metadata": {},
   "outputs": [],
   "source": [
    "# Создание списка с элементами\n",
    "numbers = [1, 2, 3, 4, 5, 6, 7, 8] # обновление списка"
   ]
  },
  {
   "cell_type": "code",
   "execution_count": 17,
   "id": "5539b852",
   "metadata": {},
   "outputs": [
    {
     "data": {
      "text/plain": [
       "[1, 2, 4, 5, 6, 7, 8]"
      ]
     },
     "execution_count": 17,
     "metadata": {},
     "output_type": "execute_result"
    }
   ],
   "source": [
    "# Удаление элемента по индексу\n",
    "del numbers[2]  # нумерация с нуля\n",
    "numbers"
   ]
  },
  {
   "cell_type": "code",
   "execution_count": 18,
   "id": "92884cc1",
   "metadata": {},
   "outputs": [
    {
     "data": {
      "text/plain": [
       "8"
      ]
     },
     "execution_count": 18,
     "metadata": {},
     "output_type": "execute_result"
    }
   ],
   "source": [
    "# Удаление и получение последнего элемента\n",
    "last = numbers.pop()  \n",
    "last # в переменную записалось последнее число в списке"
   ]
  },
  {
   "cell_type": "code",
   "execution_count": 19,
   "id": "e970d095",
   "metadata": {},
   "outputs": [
    {
     "data": {
      "text/plain": [
       "[1, 2, 4, 5, 6, 7]"
      ]
     },
     "execution_count": 19,
     "metadata": {},
     "output_type": "execute_result"
    }
   ],
   "source": [
    "numbers # сам список стал короче"
   ]
  },
  {
   "cell_type": "code",
   "execution_count": 20,
   "id": "cff7a49c",
   "metadata": {},
   "outputs": [],
   "source": [
    "# Создание списка с элементами\n",
    "numbers = [1, 2, 3, 4, 5, 6, 7, 8] # обновление списка"
   ]
  },
  {
   "cell_type": "code",
   "execution_count": 21,
   "id": "58a2da61",
   "metadata": {},
   "outputs": [
    {
     "data": {
      "text/plain": [
       "2"
      ]
     },
     "execution_count": 21,
     "metadata": {},
     "output_type": "execute_result"
    }
   ],
   "source": [
    "# Удаление и получение элемента по индексу\n",
    "second = numbers.pop(1)  # нумерация индесов с нуля\n",
    "second"
   ]
  },
  {
   "cell_type": "code",
   "execution_count": 22,
   "id": "89453f94",
   "metadata": {},
   "outputs": [
    {
     "data": {
      "text/plain": [
       "[1, 3, 4, 5, 6, 7, 8]"
      ]
     },
     "execution_count": 22,
     "metadata": {},
     "output_type": "execute_result"
    }
   ],
   "source": [
    "# в самом списке элемент исчез\n",
    "numbers"
   ]
  },
  {
   "cell_type": "code",
   "execution_count": 23,
   "id": "2c5c26ee",
   "metadata": {},
   "outputs": [
    {
     "data": {
      "text/plain": [
       "[]"
      ]
     },
     "execution_count": 23,
     "metadata": {},
     "output_type": "execute_result"
    }
   ],
   "source": [
    "# Очистка списка\n",
    "numbers.clear()  \n",
    "numbers"
   ]
  },
  {
   "cell_type": "markdown",
   "id": "34ed36db",
   "metadata": {},
   "source": [
    "#### Поиск по списку и сортировка"
   ]
  },
  {
   "cell_type": "code",
   "execution_count": 24,
   "id": "8a9ead5a",
   "metadata": {},
   "outputs": [],
   "source": [
    "# Создание списка с элементами\n",
    "numbers = [1, 2, 3, 4, 5, 6, 7, 8] # обновление списка"
   ]
  },
  {
   "cell_type": "code",
   "execution_count": 25,
   "id": "4be8d9cb",
   "metadata": {},
   "outputs": [
    {
     "data": {
      "text/plain": [
       "3"
      ]
     },
     "execution_count": 25,
     "metadata": {},
     "output_type": "execute_result"
    }
   ],
   "source": [
    "# Поиск индекса элемента\n",
    "index = numbers.index(4)  #  дай индекс элемента четыре\n",
    "index"
   ]
  },
  {
   "cell_type": "code",
   "execution_count": 26,
   "id": "f8870d46",
   "metadata": {},
   "outputs": [],
   "source": [
    "alfa = ['a', 'b', 'c', 'd', 'e']"
   ]
  },
  {
   "cell_type": "code",
   "execution_count": 27,
   "id": "b58407bd",
   "metadata": {},
   "outputs": [
    {
     "data": {
      "text/plain": [
       "2"
      ]
     },
     "execution_count": 27,
     "metadata": {},
     "output_type": "execute_result"
    }
   ],
   "source": [
    "index_in_alfa = alfa.index('c')\n",
    "index_in_alfa"
   ]
  },
  {
   "cell_type": "code",
   "execution_count": 28,
   "id": "e16e14b4",
   "metadata": {},
   "outputs": [
    {
     "data": {
      "text/plain": [
       "1"
      ]
     },
     "execution_count": 28,
     "metadata": {},
     "output_type": "execute_result"
    }
   ],
   "source": [
    "# Подсчет количества вхождений элемента\n",
    "count = numbers.count(4)  # одно вхождение числа 4\n",
    "count"
   ]
  },
  {
   "cell_type": "code",
   "execution_count": 31,
   "id": "5c4f289b",
   "metadata": {},
   "outputs": [
    {
     "data": {
      "text/plain": [
       "3"
      ]
     },
     "execution_count": 31,
     "metadata": {},
     "output_type": "execute_result"
    }
   ],
   "source": [
    "# вставим в конце еще раз число восемь \n",
    "numbers.append(8)\n",
    "\n",
    "# Подсчет количества вхождений элемента\n",
    "count = numbers.count(8)  # сколько вхождений числа 8\n",
    "count"
   ]
  },
  {
   "cell_type": "code",
   "execution_count": 32,
   "id": "dfcfb4b2",
   "metadata": {},
   "outputs": [
    {
     "data": {
      "text/plain": [
       "[1, 2, 3, 4, 5, 6, 7, 8, 8, 8]"
      ]
     },
     "execution_count": 32,
     "metadata": {},
     "output_type": "execute_result"
    }
   ],
   "source": [
    "# Сортировка списка\n",
    "numbers.sort()  # По возрастанию\n",
    "numbers"
   ]
  },
  {
   "cell_type": "code",
   "execution_count": 33,
   "id": "98bd4588",
   "metadata": {},
   "outputs": [
    {
     "data": {
      "text/plain": [
       "[8, 8, 8, 7, 6, 5, 4, 3, 2, 1]"
      ]
     },
     "execution_count": 33,
     "metadata": {},
     "output_type": "execute_result"
    }
   ],
   "source": [
    "numbers.sort(reverse=True)  # По убыванию\n",
    "numbers # выводится обратный порядок"
   ]
  },
  {
   "cell_type": "code",
   "execution_count": 35,
   "id": "af577224",
   "metadata": {
    "code_folding": []
   },
   "outputs": [
    {
     "data": {
      "text/plain": [
       "[1, 2, 3, 4, 5, 6, 7, 8, 8, 8]"
      ]
     },
     "execution_count": 35,
     "metadata": {},
     "output_type": "execute_result"
    }
   ],
   "source": [
    "# Получение отсортированного списка без изменения исходного\n",
    "sorted_numbers = sorted(numbers)  # По возрастанию\n",
    "sorted_numbers "
   ]
  },
  {
   "cell_type": "code",
   "execution_count": 36,
   "id": "a4f82293",
   "metadata": {},
   "outputs": [
    {
     "data": {
      "text/plain": [
       "[8, 8, 8, 7, 6, 5, 4, 3, 2, 1]"
      ]
     },
     "execution_count": 36,
     "metadata": {},
     "output_type": "execute_result"
    }
   ],
   "source": [
    "sorted_numbers_desc = sorted(numbers, reverse=True)  # По убыванию\n",
    "sorted_numbers_desc"
   ]
  },
  {
   "cell_type": "markdown",
   "id": "7327011f",
   "metadata": {},
   "source": [
    "#### Перебор и генерация списков"
   ]
  },
  {
   "cell_type": "code",
   "execution_count": 38,
   "id": "d6220260",
   "metadata": {},
   "outputs": [
    {
     "name": "stdout",
     "output_type": "stream",
     "text": [
      "0 8\n",
      "1 8\n",
      "2 8\n",
      "3 7\n",
      "4 6\n",
      "5 5\n",
      "6 4\n",
      "7 3\n",
      "8 2\n",
      "9 1\n"
     ]
    }
   ],
   "source": [
    "# Перебор индексов и элементов\n",
    "for index, number in enumerate(numbers):\n",
    "    print(index, number)"
   ]
  },
  {
   "cell_type": "code",
   "execution_count": 39,
   "id": "7cc7688f",
   "metadata": {},
   "outputs": [
    {
     "data": {
      "text/plain": [
       "[0, 1, 4, 9, 16, 25, 36, 49, 64, 81]"
      ]
     },
     "execution_count": 39,
     "metadata": {},
     "output_type": "execute_result"
    }
   ],
   "source": [
    "# Создание нового списка с использованием List Comprehension\n",
    "squared_numbers = [x**2 for x in range(10)] \n",
    "squared_numbers"
   ]
  },
  {
   "cell_type": "code",
   "execution_count": 40,
   "id": "44f68e31",
   "metadata": {},
   "outputs": [
    {
     "data": {
      "text/plain": [
       "[0, 2, 4, 6, 8]"
      ]
     },
     "execution_count": 40,
     "metadata": {},
     "output_type": "execute_result"
    }
   ],
   "source": [
    "# List Comprehension с условием\n",
    "even_numbers = [x for x in range(10) if x % 2 == 0]  \n",
    "even_numbers"
   ]
  },
  {
   "cell_type": "markdown",
   "id": "398b495c",
   "metadata": {},
   "source": [
    "#### Удаление дубликатов"
   ]
  },
  {
   "cell_type": "code",
   "execution_count": 41,
   "id": "5321835d",
   "metadata": {},
   "outputs": [
    {
     "name": "stdout",
     "output_type": "stream",
     "text": [
      "[1, 2, 3, 4, 5]\n"
     ]
    }
   ],
   "source": [
    "# с помощью set\n",
    "original_list = [1, 2, 2, 3, 4, 4, 5]\n",
    "unique_list = list(set(original_list))\n",
    "print(unique_list) "
   ]
  },
  {
   "cell_type": "code",
   "execution_count": 42,
   "id": "702144ae",
   "metadata": {},
   "outputs": [
    {
     "name": "stdout",
     "output_type": "stream",
     "text": [
      "[1, 2, 3, 4, 5]\n"
     ]
    }
   ],
   "source": [
    "# с помощью цикла\n",
    "original_list = [1, 2, 2, 3, 4, 4, 5]\n",
    "unique_list = []\n",
    "for item in original_list:\n",
    "    if item not in unique_list:\n",
    "        unique_list.append(item)\n",
    "print(unique_list)  "
   ]
  },
  {
   "cell_type": "markdown",
   "id": "48e4d04a",
   "metadata": {},
   "source": [
    "🗿🗿🗿🗿🗿🗿🗿🗿🗿🗿🗿🗿🗿🗿🗿🗿🗿🗿🗿🗿🗿🗿🗿🗿🗿🗿🗿🗿🗿🗿🗿🗿🗿🗿🗿🗿🗿🗿🗿🗿🗿🗿🗿🗿🗿🗿🗿🗿🗿🗿🗿🗿🗿🗿🗿🗿🗿🗿🗿🗿🗿🗿🗿🗿🗿🗿🗿🗿🗿🗿🗿🗿🗿"
   ]
  },
  {
   "cell_type": "code",
   "execution_count": null,
   "id": "e61b62bf",
   "metadata": {},
   "outputs": [],
   "source": []
  },
  {
   "cell_type": "code",
   "execution_count": null,
   "id": "339b4c24",
   "metadata": {},
   "outputs": [],
   "source": []
  },
  {
   "cell_type": "code",
   "execution_count": null,
   "id": "3fa02fde",
   "metadata": {},
   "outputs": [],
   "source": []
  },
  {
   "cell_type": "code",
   "execution_count": null,
   "id": "19c1c3c4",
   "metadata": {},
   "outputs": [],
   "source": []
  }
 ],
 "metadata": {
  "kernelspec": {
   "display_name": "Python 3 (ipykernel)",
   "language": "python",
   "name": "python3"
  },
  "language_info": {
   "codemirror_mode": {
    "name": "ipython",
    "version": 3
   },
   "file_extension": ".py",
   "mimetype": "text/x-python",
   "name": "python",
   "nbconvert_exporter": "python",
   "pygments_lexer": "ipython3",
   "version": "3.10.9"
  }
 },
 "nbformat": 4,
 "nbformat_minor": 5
}
