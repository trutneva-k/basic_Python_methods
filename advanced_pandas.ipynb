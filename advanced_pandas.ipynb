{
 "cells": [
  {
   "cell_type": "markdown",
   "id": "bfdddedf",
   "metadata": {},
   "source": [
    "#### Продвинутые методы Pandas"
   ]
  },
  {
   "cell_type": "markdown",
   "id": "e16ec297",
   "metadata": {},
   "source": [
    "В библиотеке pandas методы apply и map часто рассматриваются как более продвинутые инструменты для работы с данными, особенно когда дело касается обработки или трансформации данных."
   ]
  },
  {
   "cell_type": "code",
   "execution_count": 1,
   "id": "8570b44d",
   "metadata": {},
   "outputs": [],
   "source": [
    "# загрузка библиотек\n",
    "import pandas as pd\n",
    "import numpy as np"
   ]
  },
  {
   "cell_type": "code",
   "execution_count": 2,
   "id": "6e8e89bf",
   "metadata": {},
   "outputs": [
    {
     "data": {
      "text/html": [
       "<div>\n",
       "<style scoped>\n",
       "    .dataframe tbody tr th:only-of-type {\n",
       "        vertical-align: middle;\n",
       "    }\n",
       "\n",
       "    .dataframe tbody tr th {\n",
       "        vertical-align: top;\n",
       "    }\n",
       "\n",
       "    .dataframe thead th {\n",
       "        text-align: right;\n",
       "    }\n",
       "</style>\n",
       "<table border=\"1\" class=\"dataframe\">\n",
       "  <thead>\n",
       "    <tr style=\"text-align: right;\">\n",
       "      <th></th>\n",
       "      <th>EmployeeID</th>\n",
       "      <th>Age</th>\n",
       "      <th>Salary</th>\n",
       "      <th>Department</th>\n",
       "    </tr>\n",
       "  </thead>\n",
       "  <tbody>\n",
       "    <tr>\n",
       "      <th>0</th>\n",
       "      <td>1</td>\n",
       "      <td>22</td>\n",
       "      <td>119</td>\n",
       "      <td>IT</td>\n",
       "    </tr>\n",
       "    <tr>\n",
       "      <th>1</th>\n",
       "      <td>2</td>\n",
       "      <td>25</td>\n",
       "      <td>63</td>\n",
       "      <td>IT</td>\n",
       "    </tr>\n",
       "    <tr>\n",
       "      <th>2</th>\n",
       "      <td>3</td>\n",
       "      <td>25</td>\n",
       "      <td>78</td>\n",
       "      <td>Finance</td>\n",
       "    </tr>\n",
       "    <tr>\n",
       "      <th>3</th>\n",
       "      <td>4</td>\n",
       "      <td>31</td>\n",
       "      <td>106</td>\n",
       "      <td>HR</td>\n",
       "    </tr>\n",
       "    <tr>\n",
       "      <th>4</th>\n",
       "      <td>5</td>\n",
       "      <td>41</td>\n",
       "      <td>95</td>\n",
       "      <td>HR</td>\n",
       "    </tr>\n",
       "  </tbody>\n",
       "</table>\n",
       "</div>"
      ],
      "text/plain": [
       "   EmployeeID  Age  Salary Department\n",
       "0           1   22     119         IT\n",
       "1           2   25      63         IT\n",
       "2           3   25      78    Finance\n",
       "3           4   31     106         HR\n",
       "4           5   41      95         HR"
      ]
     },
     "execution_count": 2,
     "metadata": {},
     "output_type": "execute_result"
    }
   ],
   "source": [
    "# генерация данных\n",
    "\n",
    "# установка воспроизводимости\n",
    "np.random.seed(0)\n",
    "num = 100\n",
    "\n",
    "employee_id = np.arange(1, num+1)\n",
    "ages = np.random.randint(22, 60, size = num)\n",
    "salary = np.random.randint(60, 120, size = num)\n",
    "department = np.random.choice(['HR', 'IT', 'Marketing', 'Sales', 'Finance'], size = num)\n",
    "\n",
    "\n",
    "# собираем в датафрейм\n",
    "\n",
    "df = pd.DataFrame({\n",
    "    'EmployeeID': employee_id,\n",
    "    'Age': ages,\n",
    "    'Salary': salary,\n",
    "    'Department': department\n",
    "    })\n",
    "\n",
    "# посмотрим да данные\n",
    "df.head()"
   ]
  },
  {
   "cell_type": "markdown",
   "id": "3a65c415",
   "metadata": {},
   "source": [
    "Метод **map()** в pandas применяется к **столбцам**, так как каждый столбец в DataFrame является объектом Series. Этот метод полезен для преобразования значений в конкретном столбце. Чаще всего используется для **замены** значений на другие с помощью словарей."
   ]
  },
  {
   "cell_type": "markdown",
   "id": "6bc5d607",
   "metadata": {},
   "source": [
    "pandas.DataFrame.map\n",
    "DataFrame.map(func, na_action=None, **kwargs)"
   ]
  },
  {
   "cell_type": "code",
   "execution_count": 3,
   "id": "75ae5a3b",
   "metadata": {},
   "outputs": [],
   "source": [
    "# создаем словарь где ключ старое значение, а значение это новое значение\n",
    "department_dict = {'HR':1 , 'IT':2, 'Marketing':3, 'Sales':4, 'Finance':5}\n",
    "\n",
    "# присваиваем новому столбцу начения старого с применением функции\n",
    "df['Department_num'] =  df['Department'].map(department_dict )\n"
   ]
  },
  {
   "cell_type": "code",
   "execution_count": 5,
   "id": "2f91bf19",
   "metadata": {},
   "outputs": [
    {
     "data": {
      "text/html": [
       "<div>\n",
       "<style scoped>\n",
       "    .dataframe tbody tr th:only-of-type {\n",
       "        vertical-align: middle;\n",
       "    }\n",
       "\n",
       "    .dataframe tbody tr th {\n",
       "        vertical-align: top;\n",
       "    }\n",
       "\n",
       "    .dataframe thead th {\n",
       "        text-align: right;\n",
       "    }\n",
       "</style>\n",
       "<table border=\"1\" class=\"dataframe\">\n",
       "  <thead>\n",
       "    <tr style=\"text-align: right;\">\n",
       "      <th></th>\n",
       "      <th>EmployeeID</th>\n",
       "      <th>Age</th>\n",
       "      <th>Salary</th>\n",
       "      <th>Department</th>\n",
       "      <th>Department_num</th>\n",
       "    </tr>\n",
       "  </thead>\n",
       "  <tbody>\n",
       "    <tr>\n",
       "      <th>0</th>\n",
       "      <td>1</td>\n",
       "      <td>22</td>\n",
       "      <td>119</td>\n",
       "      <td>IT</td>\n",
       "      <td>2</td>\n",
       "    </tr>\n",
       "    <tr>\n",
       "      <th>1</th>\n",
       "      <td>2</td>\n",
       "      <td>25</td>\n",
       "      <td>63</td>\n",
       "      <td>IT</td>\n",
       "      <td>2</td>\n",
       "    </tr>\n",
       "    <tr>\n",
       "      <th>2</th>\n",
       "      <td>3</td>\n",
       "      <td>25</td>\n",
       "      <td>78</td>\n",
       "      <td>Finance</td>\n",
       "      <td>5</td>\n",
       "    </tr>\n",
       "    <tr>\n",
       "      <th>3</th>\n",
       "      <td>4</td>\n",
       "      <td>31</td>\n",
       "      <td>106</td>\n",
       "      <td>HR</td>\n",
       "      <td>1</td>\n",
       "    </tr>\n",
       "    <tr>\n",
       "      <th>4</th>\n",
       "      <td>5</td>\n",
       "      <td>41</td>\n",
       "      <td>95</td>\n",
       "      <td>HR</td>\n",
       "      <td>1</td>\n",
       "    </tr>\n",
       "  </tbody>\n",
       "</table>\n",
       "</div>"
      ],
      "text/plain": [
       "   EmployeeID  Age  Salary Department  Department_num\n",
       "0           1   22     119         IT               2\n",
       "1           2   25      63         IT               2\n",
       "2           3   25      78    Finance               5\n",
       "3           4   31     106         HR               1\n",
       "4           5   41      95         HR               1"
      ]
     },
     "execution_count": 5,
     "metadata": {},
     "output_type": "execute_result"
    }
   ],
   "source": [
    "df.head()"
   ]
  },
  {
   "cell_type": "markdown",
   "id": "bec084bd",
   "metadata": {},
   "source": [
    "Метод **apply()** в pandas позволяет легко выполнять операции над каждым элементом в столбце. Этот метод подходит для сложных вычислений и преобразований как на уровне Series, так и на уровне DataFrame. Он позволяет выполнять различные операции с помощью пользовательских **функций**."
   ]
  },
  {
   "cell_type": "markdown",
   "id": "37587be6",
   "metadata": {},
   "source": [
    "DataFrame.apply(func, axis=0, raw=False, result_type=None, args=(), by_row='compat', engine='python', engine_kwargs=None)"
   ]
  },
  {
   "cell_type": "code",
   "execution_count": 6,
   "id": "4f787b49",
   "metadata": {},
   "outputs": [],
   "source": [
    "# напишем функцию, которая вычисляет год из возраста\n",
    "\n",
    "def year_of_birth(row):\n",
    "    birth_year = 2024 - row\n",
    "    return birth_year"
   ]
  },
  {
   "cell_type": "code",
   "execution_count": 10,
   "id": "8f0ec86a",
   "metadata": {},
   "outputs": [],
   "source": [
    "# пользуясь apply применим новую функцию в столбцу 'Age'\n",
    "\n",
    "df['birth_year'] = df['Age'].apply(year_of_birth)"
   ]
  },
  {
   "cell_type": "code",
   "execution_count": 9,
   "id": "959a83f2",
   "metadata": {},
   "outputs": [
    {
     "data": {
      "text/html": [
       "<div>\n",
       "<style scoped>\n",
       "    .dataframe tbody tr th:only-of-type {\n",
       "        vertical-align: middle;\n",
       "    }\n",
       "\n",
       "    .dataframe tbody tr th {\n",
       "        vertical-align: top;\n",
       "    }\n",
       "\n",
       "    .dataframe thead th {\n",
       "        text-align: right;\n",
       "    }\n",
       "</style>\n",
       "<table border=\"1\" class=\"dataframe\">\n",
       "  <thead>\n",
       "    <tr style=\"text-align: right;\">\n",
       "      <th></th>\n",
       "      <th>EmployeeID</th>\n",
       "      <th>Age</th>\n",
       "      <th>Salary</th>\n",
       "      <th>Department</th>\n",
       "      <th>Department_num</th>\n",
       "      <th>birth_year</th>\n",
       "    </tr>\n",
       "  </thead>\n",
       "  <tbody>\n",
       "    <tr>\n",
       "      <th>0</th>\n",
       "      <td>1</td>\n",
       "      <td>22</td>\n",
       "      <td>119</td>\n",
       "      <td>IT</td>\n",
       "      <td>2</td>\n",
       "      <td>2002</td>\n",
       "    </tr>\n",
       "    <tr>\n",
       "      <th>1</th>\n",
       "      <td>2</td>\n",
       "      <td>25</td>\n",
       "      <td>63</td>\n",
       "      <td>IT</td>\n",
       "      <td>2</td>\n",
       "      <td>1999</td>\n",
       "    </tr>\n",
       "    <tr>\n",
       "      <th>2</th>\n",
       "      <td>3</td>\n",
       "      <td>25</td>\n",
       "      <td>78</td>\n",
       "      <td>Finance</td>\n",
       "      <td>5</td>\n",
       "      <td>1999</td>\n",
       "    </tr>\n",
       "    <tr>\n",
       "      <th>3</th>\n",
       "      <td>4</td>\n",
       "      <td>31</td>\n",
       "      <td>106</td>\n",
       "      <td>HR</td>\n",
       "      <td>1</td>\n",
       "      <td>1993</td>\n",
       "    </tr>\n",
       "    <tr>\n",
       "      <th>4</th>\n",
       "      <td>5</td>\n",
       "      <td>41</td>\n",
       "      <td>95</td>\n",
       "      <td>HR</td>\n",
       "      <td>1</td>\n",
       "      <td>1983</td>\n",
       "    </tr>\n",
       "  </tbody>\n",
       "</table>\n",
       "</div>"
      ],
      "text/plain": [
       "   EmployeeID  Age  Salary Department  Department_num  birth_year\n",
       "0           1   22     119         IT               2        2002\n",
       "1           2   25      63         IT               2        1999\n",
       "2           3   25      78    Finance               5        1999\n",
       "3           4   31     106         HR               1        1993\n",
       "4           5   41      95         HR               1        1983"
      ]
     },
     "execution_count": 9,
     "metadata": {},
     "output_type": "execute_result"
    }
   ],
   "source": [
    "df.head()"
   ]
  },
  {
   "cell_type": "code",
   "execution_count": null,
   "id": "af8f2b28",
   "metadata": {},
   "outputs": [],
   "source": []
  },
  {
   "cell_type": "code",
   "execution_count": null,
   "id": "2471c278",
   "metadata": {},
   "outputs": [],
   "source": []
  }
 ],
 "metadata": {
  "kernelspec": {
   "display_name": "Python 3 (ipykernel)",
   "language": "python",
   "name": "python3"
  },
  "language_info": {
   "codemirror_mode": {
    "name": "ipython",
    "version": 3
   },
   "file_extension": ".py",
   "mimetype": "text/x-python",
   "name": "python",
   "nbconvert_exporter": "python",
   "pygments_lexer": "ipython3",
   "version": "3.10.9"
  }
 },
 "nbformat": 4,
 "nbformat_minor": 5
}
