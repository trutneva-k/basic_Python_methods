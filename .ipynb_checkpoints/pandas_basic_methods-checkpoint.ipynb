{
 "cells": [
  {
   "cell_type": "markdown",
   "id": "ece9faa9",
   "metadata": {},
   "source": [
    "### Pandas"
   ]
  },
  {
   "cell_type": "code",
   "execution_count": 1,
   "id": "78814013",
   "metadata": {},
   "outputs": [],
   "source": [
    "# загрузка библиотек\n",
    "import pandas as pd\n",
    "import numpy as np"
   ]
  },
  {
   "cell_type": "code",
   "execution_count": 2,
   "id": "8ed3de66",
   "metadata": {},
   "outputs": [
    {
     "data": {
      "text/html": [
       "<div>\n",
       "<style scoped>\n",
       "    .dataframe tbody tr th:only-of-type {\n",
       "        vertical-align: middle;\n",
       "    }\n",
       "\n",
       "    .dataframe tbody tr th {\n",
       "        vertical-align: top;\n",
       "    }\n",
       "\n",
       "    .dataframe thead th {\n",
       "        text-align: right;\n",
       "    }\n",
       "</style>\n",
       "<table border=\"1\" class=\"dataframe\">\n",
       "  <thead>\n",
       "    <tr style=\"text-align: right;\">\n",
       "      <th></th>\n",
       "      <th>EmployeeID</th>\n",
       "      <th>Age</th>\n",
       "      <th>Salary</th>\n",
       "      <th>Department</th>\n",
       "    </tr>\n",
       "  </thead>\n",
       "  <tbody>\n",
       "    <tr>\n",
       "      <th>0</th>\n",
       "      <td>1</td>\n",
       "      <td>22</td>\n",
       "      <td>119</td>\n",
       "      <td>IT</td>\n",
       "    </tr>\n",
       "    <tr>\n",
       "      <th>1</th>\n",
       "      <td>2</td>\n",
       "      <td>25</td>\n",
       "      <td>63</td>\n",
       "      <td>IT</td>\n",
       "    </tr>\n",
       "    <tr>\n",
       "      <th>2</th>\n",
       "      <td>3</td>\n",
       "      <td>25</td>\n",
       "      <td>78</td>\n",
       "      <td>Finance</td>\n",
       "    </tr>\n",
       "    <tr>\n",
       "      <th>3</th>\n",
       "      <td>4</td>\n",
       "      <td>31</td>\n",
       "      <td>106</td>\n",
       "      <td>HR</td>\n",
       "    </tr>\n",
       "    <tr>\n",
       "      <th>4</th>\n",
       "      <td>5</td>\n",
       "      <td>41</td>\n",
       "      <td>95</td>\n",
       "      <td>HR</td>\n",
       "    </tr>\n",
       "  </tbody>\n",
       "</table>\n",
       "</div>"
      ],
      "text/plain": [
       "   EmployeeID  Age  Salary Department\n",
       "0           1   22     119         IT\n",
       "1           2   25      63         IT\n",
       "2           3   25      78    Finance\n",
       "3           4   31     106         HR\n",
       "4           5   41      95         HR"
      ]
     },
     "execution_count": 2,
     "metadata": {},
     "output_type": "execute_result"
    }
   ],
   "source": [
    "# генерация данных\n",
    "\n",
    "# установка воспроизводимости\n",
    "np.random.seed(0)\n",
    "num = 100\n",
    "\n",
    "employee_id = np.arange(1, num+1)\n",
    "ages = np.random.randint(22, 60, size = num)\n",
    "salary = np.random.randint(60, 120, size = num)\n",
    "department = np.random.choice(['HR', 'IT', 'Marketing', 'Sales', 'Finance'], size = num)\n",
    "\n",
    "\n",
    "# собираем в датафрейм\n",
    "\n",
    "df = pd.DataFrame({\n",
    "    'EmployeeID': employee_id,\n",
    "    'Age': ages,\n",
    "    'Salary': salary,\n",
    "    'Department': department\n",
    "    })\n",
    "\n",
    "# посмотрим да данные\n",
    "df.head()"
   ]
  },
  {
   "cell_type": "markdown",
   "id": "89a3011c",
   "metadata": {},
   "source": [
    "#### Сортировка и измененеи порядка"
   ]
  },
  {
   "cell_type": "code",
   "execution_count": 3,
   "id": "fd633ffd",
   "metadata": {},
   "outputs": [
    {
     "data": {
      "text/html": [
       "<div>\n",
       "<style scoped>\n",
       "    .dataframe tbody tr th:only-of-type {\n",
       "        vertical-align: middle;\n",
       "    }\n",
       "\n",
       "    .dataframe tbody tr th {\n",
       "        vertical-align: top;\n",
       "    }\n",
       "\n",
       "    .dataframe thead th {\n",
       "        text-align: right;\n",
       "    }\n",
       "</style>\n",
       "<table border=\"1\" class=\"dataframe\">\n",
       "  <thead>\n",
       "    <tr style=\"text-align: right;\">\n",
       "      <th></th>\n",
       "      <th>EmployeeID</th>\n",
       "      <th>Age</th>\n",
       "      <th>Salary</th>\n",
       "      <th>Department</th>\n",
       "    </tr>\n",
       "  </thead>\n",
       "  <tbody>\n",
       "    <tr>\n",
       "      <th>0</th>\n",
       "      <td>1</td>\n",
       "      <td>22</td>\n",
       "      <td>119</td>\n",
       "      <td>IT</td>\n",
       "    </tr>\n",
       "    <tr>\n",
       "      <th>80</th>\n",
       "      <td>81</td>\n",
       "      <td>22</td>\n",
       "      <td>119</td>\n",
       "      <td>Finance</td>\n",
       "    </tr>\n",
       "    <tr>\n",
       "      <th>93</th>\n",
       "      <td>94</td>\n",
       "      <td>22</td>\n",
       "      <td>100</td>\n",
       "      <td>IT</td>\n",
       "    </tr>\n",
       "    <tr>\n",
       "      <th>25</th>\n",
       "      <td>26</td>\n",
       "      <td>22</td>\n",
       "      <td>98</td>\n",
       "      <td>Finance</td>\n",
       "    </tr>\n",
       "    <tr>\n",
       "      <th>45</th>\n",
       "      <td>46</td>\n",
       "      <td>22</td>\n",
       "      <td>91</td>\n",
       "      <td>HR</td>\n",
       "    </tr>\n",
       "  </tbody>\n",
       "</table>\n",
       "</div>"
      ],
      "text/plain": [
       "    EmployeeID  Age  Salary Department\n",
       "0            1   22     119         IT\n",
       "80          81   22     119    Finance\n",
       "93          94   22     100         IT\n",
       "25          26   22      98    Finance\n",
       "45          46   22      91         HR"
      ]
     },
     "execution_count": 3,
     "metadata": {},
     "output_type": "execute_result"
    }
   ],
   "source": [
    "# сортировка по столбцу\n",
    "# sort_values('col', ascending = True)\n",
    "\n",
    "df_filtered = df.sort_values(['Age','Salary'], ascending = [True, False])\n",
    "df_filtered.head()"
   ]
  },
  {
   "cell_type": "code",
   "execution_count": 4,
   "id": "1a41b314",
   "metadata": {},
   "outputs": [
    {
     "data": {
      "text/html": [
       "<div>\n",
       "<style scoped>\n",
       "    .dataframe tbody tr th:only-of-type {\n",
       "        vertical-align: middle;\n",
       "    }\n",
       "\n",
       "    .dataframe tbody tr th {\n",
       "        vertical-align: top;\n",
       "    }\n",
       "\n",
       "    .dataframe thead th {\n",
       "        text-align: right;\n",
       "    }\n",
       "</style>\n",
       "<table border=\"1\" class=\"dataframe\">\n",
       "  <thead>\n",
       "    <tr style=\"text-align: right;\">\n",
       "      <th></th>\n",
       "      <th>Age</th>\n",
       "      <th>Salary</th>\n",
       "    </tr>\n",
       "  </thead>\n",
       "  <tbody>\n",
       "    <tr>\n",
       "      <th>0</th>\n",
       "      <td>22</td>\n",
       "      <td>119</td>\n",
       "    </tr>\n",
       "    <tr>\n",
       "      <th>1</th>\n",
       "      <td>25</td>\n",
       "      <td>63</td>\n",
       "    </tr>\n",
       "    <tr>\n",
       "      <th>2</th>\n",
       "      <td>25</td>\n",
       "      <td>78</td>\n",
       "    </tr>\n",
       "    <tr>\n",
       "      <th>3</th>\n",
       "      <td>31</td>\n",
       "      <td>106</td>\n",
       "    </tr>\n",
       "    <tr>\n",
       "      <th>4</th>\n",
       "      <td>41</td>\n",
       "      <td>95</td>\n",
       "    </tr>\n",
       "  </tbody>\n",
       "</table>\n",
       "</div>"
      ],
      "text/plain": [
       "   Age  Salary\n",
       "0   22     119\n",
       "1   25      63\n",
       "2   25      78\n",
       "3   31     106\n",
       "4   41      95"
      ]
     },
     "execution_count": 4,
     "metadata": {},
     "output_type": "execute_result"
    }
   ],
   "source": [
    "# Отбор некоторых столбцов из даиафрейма\n",
    "# df[['col1','col2']]\n",
    "\n",
    "\n",
    "df_only_ages_and_salary = df[['Age','Salary']]\n",
    "df_only_ages_and_salary.head()"
   ]
  },
  {
   "cell_type": "markdown",
   "id": "2bc6d7ca",
   "metadata": {},
   "source": [
    "#### Подсчет"
   ]
  },
  {
   "cell_type": "code",
   "execution_count": 5,
   "id": "5b0915b1",
   "metadata": {},
   "outputs": [
    {
     "data": {
      "text/plain": [
       "Sales        25\n",
       "IT           23\n",
       "Marketing    18\n",
       "Finance      17\n",
       "HR           17\n",
       "Name: Department, dtype: int64"
      ]
     },
     "execution_count": 5,
     "metadata": {},
     "output_type": "execute_result"
    }
   ],
   "source": [
    "# посчитать сколько в каждом отделе сотрудников\n",
    "df['Department'].value_counts()"
   ]
  },
  {
   "cell_type": "code",
   "execution_count": 6,
   "id": "fafafecc",
   "metadata": {},
   "outputs": [
    {
     "data": {
      "text/plain": [
       "Department\n",
       "Finance      17\n",
       "HR           17\n",
       "IT           23\n",
       "Marketing    18\n",
       "Sales        25\n",
       "dtype: int64"
      ]
     },
     "execution_count": 6,
     "metadata": {},
     "output_type": "execute_result"
    }
   ],
   "source": [
    "# тоже только с помощью групировки\n",
    "df.groupby('Department').size()"
   ]
  },
  {
   "cell_type": "code",
   "execution_count": 7,
   "id": "42ee3a17",
   "metadata": {},
   "outputs": [
    {
     "data": {
      "text/html": [
       "<div>\n",
       "<style scoped>\n",
       "    .dataframe tbody tr th:only-of-type {\n",
       "        vertical-align: middle;\n",
       "    }\n",
       "\n",
       "    .dataframe tbody tr th {\n",
       "        vertical-align: top;\n",
       "    }\n",
       "\n",
       "    .dataframe thead th {\n",
       "        text-align: right;\n",
       "    }\n",
       "</style>\n",
       "<table border=\"1\" class=\"dataframe\">\n",
       "  <thead>\n",
       "    <tr style=\"text-align: right;\">\n",
       "      <th></th>\n",
       "      <th>EmployeeID</th>\n",
       "      <th>Age</th>\n",
       "      <th>Salary</th>\n",
       "    </tr>\n",
       "  </thead>\n",
       "  <tbody>\n",
       "    <tr>\n",
       "      <th>count</th>\n",
       "      <td>100.000000</td>\n",
       "      <td>100.000000</td>\n",
       "      <td>100.000000</td>\n",
       "    </tr>\n",
       "    <tr>\n",
       "      <th>mean</th>\n",
       "      <td>50.500000</td>\n",
       "      <td>39.300000</td>\n",
       "      <td>89.820000</td>\n",
       "    </tr>\n",
       "    <tr>\n",
       "      <th>std</th>\n",
       "      <td>29.011492</td>\n",
       "      <td>11.914256</td>\n",
       "      <td>17.812367</td>\n",
       "    </tr>\n",
       "    <tr>\n",
       "      <th>min</th>\n",
       "      <td>1.000000</td>\n",
       "      <td>22.000000</td>\n",
       "      <td>60.000000</td>\n",
       "    </tr>\n",
       "    <tr>\n",
       "      <th>25%</th>\n",
       "      <td>25.750000</td>\n",
       "      <td>28.000000</td>\n",
       "      <td>74.750000</td>\n",
       "    </tr>\n",
       "    <tr>\n",
       "      <th>50%</th>\n",
       "      <td>50.500000</td>\n",
       "      <td>38.500000</td>\n",
       "      <td>90.000000</td>\n",
       "    </tr>\n",
       "    <tr>\n",
       "      <th>75%</th>\n",
       "      <td>75.250000</td>\n",
       "      <td>50.250000</td>\n",
       "      <td>105.000000</td>\n",
       "    </tr>\n",
       "    <tr>\n",
       "      <th>max</th>\n",
       "      <td>100.000000</td>\n",
       "      <td>59.000000</td>\n",
       "      <td>119.000000</td>\n",
       "    </tr>\n",
       "  </tbody>\n",
       "</table>\n",
       "</div>"
      ],
      "text/plain": [
       "       EmployeeID         Age      Salary\n",
       "count  100.000000  100.000000  100.000000\n",
       "mean    50.500000   39.300000   89.820000\n",
       "std     29.011492   11.914256   17.812367\n",
       "min      1.000000   22.000000   60.000000\n",
       "25%     25.750000   28.000000   74.750000\n",
       "50%     50.500000   38.500000   90.000000\n",
       "75%     75.250000   50.250000  105.000000\n",
       "max    100.000000   59.000000  119.000000"
      ]
     },
     "execution_count": 7,
     "metadata": {},
     "output_type": "execute_result"
    }
   ],
   "source": [
    "# describe: Вычисляет основные статистики по числовым данным\n",
    "df.describe()"
   ]
  },
  {
   "cell_type": "markdown",
   "id": "a2ce7893",
   "metadata": {},
   "source": [
    "Функция агрегации \n",
    "\n",
    "DataFrame.agg(func=None, axis=0, *args, kwargs)"
   ]
  },
  {
   "cell_type": "code",
   "execution_count": 10,
   "id": "1e1ffcd4",
   "metadata": {},
   "outputs": [
    {
     "data": {
      "text/html": [
       "<div>\n",
       "<style scoped>\n",
       "    .dataframe tbody tr th:only-of-type {\n",
       "        vertical-align: middle;\n",
       "    }\n",
       "\n",
       "    .dataframe tbody tr th {\n",
       "        vertical-align: top;\n",
       "    }\n",
       "\n",
       "    .dataframe thead th {\n",
       "        text-align: right;\n",
       "    }\n",
       "</style>\n",
       "<table border=\"1\" class=\"dataframe\">\n",
       "  <thead>\n",
       "    <tr style=\"text-align: right;\">\n",
       "      <th></th>\n",
       "      <th>Age</th>\n",
       "      <th>Salary</th>\n",
       "    </tr>\n",
       "  </thead>\n",
       "  <tbody>\n",
       "    <tr>\n",
       "      <th>mean</th>\n",
       "      <td>39.3</td>\n",
       "      <td>89.82</td>\n",
       "    </tr>\n",
       "    <tr>\n",
       "      <th>max</th>\n",
       "      <td>59.0</td>\n",
       "      <td>119.00</td>\n",
       "    </tr>\n",
       "  </tbody>\n",
       "</table>\n",
       "</div>"
      ],
      "text/plain": [
       "       Age  Salary\n",
       "mean  39.3   89.82\n",
       "max   59.0  119.00"
      ]
     },
     "execution_count": 10,
     "metadata": {},
     "output_type": "execute_result"
    }
   ],
   "source": [
    "# применение функции агрецаии для подсчета среднего и макс в двух колонках\n",
    "# df[[columns]].agg([functions])\n",
    "\n",
    "\n",
    "df[['Age','Salary']].agg([np.mean, max])"
   ]
  },
  {
   "cell_type": "markdown",
   "id": "7ef5b0a4",
   "metadata": {},
   "source": [
    "Функция удаления дубликатов\n",
    "\n",
    "DataFrame.drop_duplicates(subset=None, *, keep='first', inplace=False, ignore_index=False)"
   ]
  },
  {
   "cell_type": "code",
   "execution_count": 11,
   "id": "f4d21412",
   "metadata": {},
   "outputs": [
    {
     "data": {
      "text/html": [
       "<div>\n",
       "<style scoped>\n",
       "    .dataframe tbody tr th:only-of-type {\n",
       "        vertical-align: middle;\n",
       "    }\n",
       "\n",
       "    .dataframe tbody tr th {\n",
       "        vertical-align: top;\n",
       "    }\n",
       "\n",
       "    .dataframe thead th {\n",
       "        text-align: right;\n",
       "    }\n",
       "</style>\n",
       "<table border=\"1\" class=\"dataframe\">\n",
       "  <thead>\n",
       "    <tr style=\"text-align: right;\">\n",
       "      <th></th>\n",
       "      <th>EmployeeID</th>\n",
       "      <th>Age</th>\n",
       "      <th>Salary</th>\n",
       "      <th>Department</th>\n",
       "    </tr>\n",
       "  </thead>\n",
       "  <tbody>\n",
       "    <tr>\n",
       "      <th>0</th>\n",
       "      <td>1</td>\n",
       "      <td>22</td>\n",
       "      <td>119</td>\n",
       "      <td>IT</td>\n",
       "    </tr>\n",
       "    <tr>\n",
       "      <th>1</th>\n",
       "      <td>2</td>\n",
       "      <td>25</td>\n",
       "      <td>63</td>\n",
       "      <td>IT</td>\n",
       "    </tr>\n",
       "    <tr>\n",
       "      <th>2</th>\n",
       "      <td>3</td>\n",
       "      <td>25</td>\n",
       "      <td>78</td>\n",
       "      <td>Finance</td>\n",
       "    </tr>\n",
       "    <tr>\n",
       "      <th>3</th>\n",
       "      <td>4</td>\n",
       "      <td>31</td>\n",
       "      <td>106</td>\n",
       "      <td>HR</td>\n",
       "    </tr>\n",
       "    <tr>\n",
       "      <th>4</th>\n",
       "      <td>5</td>\n",
       "      <td>41</td>\n",
       "      <td>95</td>\n",
       "      <td>HR</td>\n",
       "    </tr>\n",
       "    <tr>\n",
       "      <th>...</th>\n",
       "      <td>...</td>\n",
       "      <td>...</td>\n",
       "      <td>...</td>\n",
       "      <td>...</td>\n",
       "    </tr>\n",
       "    <tr>\n",
       "      <th>95</th>\n",
       "      <td>96</td>\n",
       "      <td>45</td>\n",
       "      <td>75</td>\n",
       "      <td>Marketing</td>\n",
       "    </tr>\n",
       "    <tr>\n",
       "      <th>96</th>\n",
       "      <td>97</td>\n",
       "      <td>24</td>\n",
       "      <td>71</td>\n",
       "      <td>HR</td>\n",
       "    </tr>\n",
       "    <tr>\n",
       "      <th>97</th>\n",
       "      <td>98</td>\n",
       "      <td>56</td>\n",
       "      <td>98</td>\n",
       "      <td>HR</td>\n",
       "    </tr>\n",
       "    <tr>\n",
       "      <th>98</th>\n",
       "      <td>99</td>\n",
       "      <td>57</td>\n",
       "      <td>107</td>\n",
       "      <td>Marketing</td>\n",
       "    </tr>\n",
       "    <tr>\n",
       "      <th>99</th>\n",
       "      <td>100</td>\n",
       "      <td>52</td>\n",
       "      <td>89</td>\n",
       "      <td>Finance</td>\n",
       "    </tr>\n",
       "  </tbody>\n",
       "</table>\n",
       "<p>98 rows × 4 columns</p>\n",
       "</div>"
      ],
      "text/plain": [
       "    EmployeeID  Age  Salary Department\n",
       "0            1   22     119         IT\n",
       "1            2   25      63         IT\n",
       "2            3   25      78    Finance\n",
       "3            4   31     106         HR\n",
       "4            5   41      95         HR\n",
       "..         ...  ...     ...        ...\n",
       "95          96   45      75  Marketing\n",
       "96          97   24      71         HR\n",
       "97          98   56      98         HR\n",
       "98          99   57     107  Marketing\n",
       "99         100   52      89    Finance\n",
       "\n",
       "[98 rows x 4 columns]"
      ]
     },
     "execution_count": 11,
     "metadata": {},
     "output_type": "execute_result"
    }
   ],
   "source": [
    "# удаление дубликатов комбинации двух колонок, а не каждой отдельно\n",
    "without_duplicates = df.drop_duplicates(subset = ['Age','Salary'])\n",
    "without_duplicates.head()"
   ]
  },
  {
   "cell_type": "markdown",
   "id": "fc5d8517",
   "metadata": {},
   "source": [
    "#### Фильтрация"
   ]
  },
  {
   "cell_type": "code",
   "execution_count": null,
   "id": "a842b4fb",
   "metadata": {},
   "outputs": [],
   "source": [
    "# выбрать только сотрудников департамента айти\n",
    "\n",
    "only_IT = df[df['Department'] == 'IT']\n",
    "only_IT.head()"
   ]
  },
  {
   "cell_type": "code",
   "execution_count": null,
   "id": "8186f856",
   "metadata": {},
   "outputs": [],
   "source": [
    "# отобрать сразу из двух отделов\n",
    "\n",
    "IT_and_HR = df[df['Department'].isin(['HR', 'IT'])]\n",
    "\n",
    "IT_and_HR.head()"
   ]
  },
  {
   "cell_type": "code",
   "execution_count": null,
   "id": "24468829",
   "metadata": {},
   "outputs": [],
   "source": [
    "# отобрать моложе 30 имеющих зп больше 100\n",
    "# df[(уловие)&(условие)]\n",
    "\n",
    "young_and_rich = df[(df['Age']<30)&(df['Salary']>100)]\n",
    "\n",
    "young_and_rich.head()"
   ]
  },
  {
   "cell_type": "code",
   "execution_count": null,
   "id": "2a7bc420",
   "metadata": {},
   "outputs": [],
   "source": [
    "# сколько их?\n",
    "young_and_rich.shape[0]"
   ]
  },
  {
   "cell_type": "code",
   "execution_count": null,
   "id": "3735bc5f",
   "metadata": {},
   "outputs": [],
   "source": [
    "# фильтрация с помощью query\n",
    "# названия колонок не в ковычках\n",
    "\n",
    "old_HR = df.query(\"Department == 'HR' and Age > 50\")\n",
    "\n",
    "old_HR.head()"
   ]
  },
  {
   "cell_type": "code",
   "execution_count": null,
   "id": "ecd9c0e3",
   "metadata": {},
   "outputs": [],
   "source": [
    "# фильрация через лист\n",
    "\n",
    "selected_dep = ['IT','HR']\n",
    "filterd_df = df[df['Department'].isin(selected_dep)]\n",
    "filterd_df.head()"
   ]
  },
  {
   "cell_type": "code",
   "execution_count": null,
   "id": "17e2c361",
   "metadata": {},
   "outputs": [],
   "source": [
    "# отберем по строкам, сначала установим айди как индекс\n",
    "df.set_index('EmployeeID', inplace = True)\n",
    "\n",
    "df.head()"
   ]
  },
  {
   "cell_type": "code",
   "execution_count": null,
   "id": "0ed2176d",
   "metadata": {},
   "outputs": [],
   "source": [
    "# отберем пять сотрудников по индексу горизонтально!\n",
    "\n",
    "my_employee = df.loc[5:10]\n",
    "my_employee"
   ]
  },
  {
   "cell_type": "code",
   "execution_count": null,
   "id": "a960c5d4",
   "metadata": {},
   "outputs": [],
   "source": [
    "# фильтрация промежутка\n",
    "age_range = df[df['Age'].between(25, 40)]\n",
    "age_range.head()"
   ]
  },
  {
   "cell_type": "code",
   "execution_count": null,
   "id": "ff44c6ad",
   "metadata": {},
   "outputs": [],
   "source": [
    "# Фильтрация сотрудников с четным возрастом\n",
    "even_age_filter = df[df['Age'].apply(lambda x: x % 2 == 0)]\n",
    "even_age_filter.head()"
   ]
  },
  {
   "cell_type": "markdown",
   "id": "d81c1297",
   "metadata": {},
   "source": [
    "#### Присоединение"
   ]
  },
  {
   "cell_type": "code",
   "execution_count": null,
   "id": "deaa3040",
   "metadata": {},
   "outputs": [],
   "source": []
  },
  {
   "cell_type": "code",
   "execution_count": null,
   "id": "43b82ea5",
   "metadata": {},
   "outputs": [],
   "source": []
  },
  {
   "cell_type": "code",
   "execution_count": null,
   "id": "03c55632",
   "metadata": {},
   "outputs": [],
   "source": []
  },
  {
   "cell_type": "code",
   "execution_count": null,
   "id": "0e912c5f",
   "metadata": {},
   "outputs": [],
   "source": []
  },
  {
   "cell_type": "code",
   "execution_count": null,
   "id": "08dff181",
   "metadata": {},
   "outputs": [],
   "source": []
  },
  {
   "cell_type": "markdown",
   "id": "320cc80f",
   "metadata": {},
   "source": [
    "Метод **concat** используется для объединения DataFrame вдоль оси\n",
    "\n",
    "DataFrame.merge(\n",
    "right, how='inner', on=None, left_on=None, right_on=None, left_index=False, right_index=False, sort=False, suffixes=('_x', '_y'), copy=None, indicator=False, validate=None)"
   ]
  },
  {
   "cell_type": "code",
   "execution_count": null,
   "id": "7b1f8ae4",
   "metadata": {},
   "outputs": [],
   "source": [
    "# создадим новый датафрейм чтобы потом присоединить по горизонтали\n",
    "\n",
    "df1 = pd.DataFrame({\n",
    "    'EmployeeID': [102, 103, 104],\n",
    "    'Age': [44, 55, 45],\n",
    "    'Salary': [78, 84, 99],\n",
    "    'Department': ['IT', 'IT', 'Marketing']\n",
    "    })\n",
    "\n",
    "# сделаем айди индексами\n",
    "df1.set_index('EmployeeID', inplace = True)\n",
    "df1"
   ]
  },
  {
   "cell_type": "code",
   "execution_count": null,
   "id": "31a45250",
   "metadata": {},
   "outputs": [],
   "source": [
    "# проверим размер до объединения\n",
    "df.shape[0]"
   ]
  },
  {
   "cell_type": "code",
   "execution_count": null,
   "id": "401ba70f",
   "metadata": {},
   "outputs": [],
   "source": [
    "# добавляем строки и проверяем размер\n",
    "concat = pd.concat([df, df1])\n",
    "concat.shape[0]"
   ]
  },
  {
   "cell_type": "markdown",
   "id": "5efadb85",
   "metadata": {},
   "source": [
    "Метод **merge** используется для объединения DataFrame по ключевым колонкам, аналогично SQL JOIN."
   ]
  },
  {
   "cell_type": "code",
   "execution_count": null,
   "id": "a164e052",
   "metadata": {},
   "outputs": [],
   "source": [
    "# создаем новые столбцы\n",
    "\n",
    "df2 = pd.DataFrame({\n",
    "    'EmployeeID':  np.arange(1, num+1),\n",
    "    'Experience': df['Age']/5\n",
    "    })\n",
    "\n",
    "df2.head(10)"
   ]
  },
  {
   "cell_type": "code",
   "execution_count": null,
   "id": "b55dcbd4",
   "metadata": {},
   "outputs": [],
   "source": [
    "# объединение c указанием колонки!\n",
    "merged_df = pd.merge(df, df2, how = 'left', on = 'EmployeeID')\n",
    "merged_df.head()"
   ]
  },
  {
   "cell_type": "markdown",
   "id": "320ff70c",
   "metadata": {},
   "source": [
    "Метод **join** используется для объединения DataFrame по индексам.\n",
    "\n",
    "DataFrame.join(other, on=None, how='left', lsuffix='', rsuffix='', sort=False, validate=None)"
   ]
  },
  {
   "cell_type": "code",
   "execution_count": null,
   "id": "088af885",
   "metadata": {},
   "outputs": [],
   "source": [
    "df2.set_index('EmployeeID', inplace = True)\n",
    "\n",
    "df2.head()"
   ]
  },
  {
   "cell_type": "code",
   "execution_count": null,
   "id": "c295fcfc",
   "metadata": {},
   "outputs": [],
   "source": [
    "# объединение по дефолту по индексам!\n",
    "\n",
    "joined_df = df.join(df2, how = 'left')\n",
    "\n",
    "joined_df.head()"
   ]
  },
  {
   "cell_type": "code",
   "execution_count": null,
   "id": "ffbb321f",
   "metadata": {},
   "outputs": [],
   "source": [
    "# создаем новые столбцы\n",
    "\n",
    "df_country = pd.DataFrame({\n",
    "    'EmployeeID':  np.arange(1, num+1),\n",
    "    'Country': np.random.choice(['UK', 'Emirates', 'Italy', 'Denmark', 'Lalalend'],size = num )\n",
    "    })\n",
    "\n",
    "df_country.head()"
   ]
  },
  {
   "cell_type": "code",
   "execution_count": null,
   "id": "a106a2bb",
   "metadata": {},
   "outputs": [],
   "source": [
    "df_country.set_index('EmployeeID', inplace = True)\n",
    "\n",
    "df_country.head()"
   ]
  },
  {
   "cell_type": "code",
   "execution_count": null,
   "id": "1d7e9a7b",
   "metadata": {},
   "outputs": [],
   "source": [
    "new_df = joined_df.join(df_country, how = 'left')\n",
    "\n",
    "new_df.head()"
   ]
  },
  {
   "cell_type": "markdown",
   "id": "21463dbc",
   "metadata": {},
   "source": [
    "#### Изменение формы данных"
   ]
  },
  {
   "cell_type": "markdown",
   "id": "8bb2a5a5",
   "metadata": {},
   "source": [
    "Метод **pivot** используется для преобразования данных из длинного формата в широкий с использованием агрегирующей функции"
   ]
  },
  {
   "cell_type": "markdown",
   "id": "b8ae75fc",
   "metadata": {},
   "source": [
    "DataFrame.pivot_table(values=None, index=None, columns=None, aggfunc='mean', fill_value=None, margins=False, dropna=True, margins_name='All', observed=_NoDefault.no_default, sort=True)"
   ]
  },
  {
   "cell_type": "code",
   "execution_count": null,
   "id": "b12e4449",
   "metadata": {},
   "outputs": [],
   "source": [
    "# какая средняя зп в отделе?\n",
    "\n",
    "df_pivot_table = df.pivot_table(index='Department', values='Salary', aggfunc='mean')\n",
    "df_pivot_table"
   ]
  },
  {
   "cell_type": "code",
   "execution_count": null,
   "id": "e9439549",
   "metadata": {},
   "outputs": [],
   "source": [
    "# какая максимальная зарплата для сотрудников из разных стран?\n",
    "\n",
    "df_pivot_young_salary = new_df.pivot_table(index = 'Country', values = 'Salary', aggfunc='max')\n",
    "df_pivot_young_salary"
   ]
  },
  {
   "cell_type": "markdown",
   "id": "016233fc",
   "metadata": {},
   "source": [
    "Метод **melt** в Pandas применяется для преобразования данных из широкого формата в длинный"
   ]
  },
  {
   "cell_type": "markdown",
   "id": "57dad5fb",
   "metadata": {},
   "source": [
    "pandas.DataFrame.melt\n",
    "DataFrame.melt(id_vars=None, value_vars=None, var_name=None, value_name='value', col_level=None, ignore_index=True)[source]\n"
   ]
  },
  {
   "cell_type": "code",
   "execution_count": null,
   "id": "9ac4385f",
   "metadata": {},
   "outputs": [],
   "source": [
    "# Создаем DataFrame\n",
    "product_data = {\n",
    "    'Product': ['Product A', 'Product B', 'Product C'],\n",
    "    'North': [120, 200, 150],\n",
    "    'South': [85, 70, 95],\n",
    "    'East': [60, 90, 80],\n",
    "    'West': [105, 150, 130]\n",
    "}\n",
    "\n",
    "product_df = pd.DataFrame(product_data)\n",
    "product_df.head()"
   ]
  },
  {
   "cell_type": "markdown",
   "id": "93f01acd",
   "metadata": {},
   "source": [
    "Чтобы преобразовать этот DataFrame в длинный формат, где у нас будет одна колонка для региона и одна колонка для значений продаж, чтобы упростить анализ данных по регионам."
   ]
  },
  {
   "cell_type": "code",
   "execution_count": null,
   "id": "cf352bb9",
   "metadata": {},
   "outputs": [],
   "source": [
    "melted_product_df = pd.melt(product_df, id_vars=['Product'], var_name='Region', value_name='Sales')\n",
    "melted_product_df"
   ]
  },
  {
   "cell_type": "code",
   "execution_count": null,
   "id": "e95d5487",
   "metadata": {},
   "outputs": [],
   "source": []
  },
  {
   "cell_type": "code",
   "execution_count": null,
   "id": "daed4b2e",
   "metadata": {},
   "outputs": [],
   "source": []
  }
 ],
 "metadata": {
  "kernelspec": {
   "display_name": "Python 3 (ipykernel)",
   "language": "python",
   "name": "python3"
  },
  "language_info": {
   "codemirror_mode": {
    "name": "ipython",
    "version": 3
   },
   "file_extension": ".py",
   "mimetype": "text/x-python",
   "name": "python",
   "nbconvert_exporter": "python",
   "pygments_lexer": "ipython3",
   "version": "3.10.9"
  }
 },
 "nbformat": 4,
 "nbformat_minor": 5
}
