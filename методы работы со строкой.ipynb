{
 "cells": [
  {
   "cell_type": "markdown",
   "id": "db415088",
   "metadata": {},
   "source": [
    "### Строка"
   ]
  },
  {
   "cell_type": "markdown",
   "id": "5d9655a8",
   "metadata": {},
   "source": [
    "Строки (str):\n",
    "\n",
    "Нельзя изменять их содержимое после создания.\n",
    "Любое изменение строки приводит к созданию новой строки."
   ]
  },
  {
   "cell_type": "code",
   "execution_count": 1,
   "id": "eede2fff",
   "metadata": {},
   "outputs": [
    {
     "data": {
      "text/plain": [
       "' paraNormal distribution 123'"
      ]
     },
     "execution_count": 1,
     "metadata": {},
     "output_type": "execute_result"
    }
   ],
   "source": [
    "# Создание строки\n",
    "s = \" paraNormal distribution 123\"\n",
    "s"
   ]
  },
  {
   "cell_type": "code",
   "execution_count": 2,
   "id": "5efbcc67",
   "metadata": {},
   "outputs": [
    {
     "data": {
      "text/plain": [
       "' '"
      ]
     },
     "execution_count": 2,
     "metadata": {},
     "output_type": "execute_result"
    }
   ],
   "source": [
    "# Доступ к символам по индексу\n",
    "first_char = s[0]  \n",
    "first_char #первый символ пробел"
   ]
  },
  {
   "cell_type": "code",
   "execution_count": 3,
   "id": "ebd8ab4c",
   "metadata": {},
   "outputs": [
    {
     "data": {
      "text/plain": [
       "'3'"
      ]
     },
     "execution_count": 3,
     "metadata": {},
     "output_type": "execute_result"
    }
   ],
   "source": [
    "last_char = s[-1]  # \n",
    "last_char"
   ]
  },
  {
   "cell_type": "code",
   "execution_count": 4,
   "id": "ccece0df",
   "metadata": {},
   "outputs": [
    {
     "data": {
      "text/plain": [
       "' paranormal distribution 123'"
      ]
     },
     "execution_count": 4,
     "metadata": {},
     "output_type": "execute_result"
    }
   ],
   "source": [
    "# Приведение к заглавному регистру\n",
    "capitalized_s = s.capitalize() \n",
    "capitalized_s # первый символ пробел из-за этого не работает"
   ]
  },
  {
   "cell_type": "code",
   "execution_count": 5,
   "id": "b0dd3bf2",
   "metadata": {},
   "outputs": [
    {
     "data": {
      "text/plain": [
       "'paraNormal distribution 123'"
      ]
     },
     "execution_count": 5,
     "metadata": {},
     "output_type": "execute_result"
    }
   ],
   "source": [
    "# Удаление пробелов в начале и в конце строки\n",
    "trimmed_s = s.strip() \n",
    "s = trimmed_s\n",
    "s"
   ]
  },
  {
   "cell_type": "code",
   "execution_count": 6,
   "id": "c1c3ce4a",
   "metadata": {},
   "outputs": [
    {
     "data": {
      "text/plain": [
       "'Paranormal distribution 123'"
      ]
     },
     "execution_count": 6,
     "metadata": {},
     "output_type": "execute_result"
    }
   ],
   "source": [
    "# Приведение к заглавному регистру\n",
    "capitalized_s = s.capitalize() \n",
    "s = capitalized_s \n",
    "s"
   ]
  },
  {
   "cell_type": "code",
   "execution_count": 7,
   "id": "0d394959",
   "metadata": {},
   "outputs": [
    {
     "data": {
      "text/plain": [
       "'Paranormal Distribution 123'"
      ]
     },
     "execution_count": 7,
     "metadata": {},
     "output_type": "execute_result"
    }
   ],
   "source": [
    "# Приведение к заглавному регистру каждого слова\n",
    "title_s = s.title() \n",
    "title_s"
   ]
  },
  {
   "cell_type": "code",
   "execution_count": 8,
   "id": "8a4ab3d8",
   "metadata": {},
   "outputs": [
    {
     "data": {
      "text/plain": [
       "'PARANORMAL DISTRIBUTION 123'"
      ]
     },
     "execution_count": 8,
     "metadata": {},
     "output_type": "execute_result"
    }
   ],
   "source": [
    "# Приведение к верхнему регистру\n",
    "upper_s = s.upper()  \n",
    "upper_s"
   ]
  },
  {
   "cell_type": "code",
   "execution_count": 9,
   "id": "c6e8dd1f",
   "metadata": {},
   "outputs": [
    {
     "data": {
      "text/plain": [
       "'paranormal distribution 123'"
      ]
     },
     "execution_count": 9,
     "metadata": {},
     "output_type": "execute_result"
    }
   ],
   "source": [
    "# Приведение к нижнему регистру\n",
    "lower_s = s.lower()  \n",
    "lower_s"
   ]
  },
  {
   "cell_type": "markdown",
   "id": "e1cd6819",
   "metadata": {},
   "source": [
    "#### Работа с содержимым строки"
   ]
  },
  {
   "cell_type": "code",
   "execution_count": 10,
   "id": "e3f38a98",
   "metadata": {},
   "outputs": [
    {
     "data": {
      "text/plain": [
       "'Paranormal distribution 123'"
      ]
     },
     "execution_count": 10,
     "metadata": {},
     "output_type": "execute_result"
    }
   ],
   "source": [
    "s"
   ]
  },
  {
   "cell_type": "code",
   "execution_count": 12,
   "id": "7536f5d9",
   "metadata": {},
   "outputs": [
    {
     "data": {
      "text/plain": [
       "False"
      ]
     },
     "execution_count": 12,
     "metadata": {},
     "output_type": "execute_result"
    }
   ],
   "source": [
    "# Проверка, состоит ли строка только из букв\n",
    "is_alpha = s.isalpha()  \n",
    "is_alpha"
   ]
  },
  {
   "cell_type": "code",
   "execution_count": 14,
   "id": "fdde044d",
   "metadata": {},
   "outputs": [
    {
     "data": {
      "text/plain": [
       "False"
      ]
     },
     "execution_count": 14,
     "metadata": {},
     "output_type": "execute_result"
    }
   ],
   "source": [
    "# Проверка, состоит ли строка только из цифр\n",
    "is_digit = s.isdigit()  \n",
    "is_digit"
   ]
  },
  {
   "cell_type": "code",
   "execution_count": 15,
   "id": "ee6c9db0",
   "metadata": {},
   "outputs": [
    {
     "data": {
      "text/plain": [
       "False"
      ]
     },
     "execution_count": 15,
     "metadata": {},
     "output_type": "execute_result"
    }
   ],
   "source": [
    "# Проверка, состоит ли строка из букв и цифр\n",
    "is_alnum = s.isalnum()  \n",
    "is_alnum"
   ]
  },
  {
   "cell_type": "code",
   "execution_count": 16,
   "id": "e20b8937",
   "metadata": {},
   "outputs": [
    {
     "data": {
      "text/plain": [
       "False"
      ]
     },
     "execution_count": 16,
     "metadata": {},
     "output_type": "execute_result"
    }
   ],
   "source": [
    "# Проверка, состоит ли строка только из пробельных символов\n",
    "is_space = s.isspace() \n",
    "is_space"
   ]
  },
  {
   "cell_type": "code",
   "execution_count": 17,
   "id": "ec443ab3",
   "metadata": {},
   "outputs": [
    {
     "data": {
      "text/plain": [
       "True"
      ]
     },
     "execution_count": 17,
     "metadata": {},
     "output_type": "execute_result"
    }
   ],
   "source": [
    "# Проверка, начинается ли строка с подстроки\n",
    "starts_with = s.startswith(\"Paranormal\") \n",
    "starts_with "
   ]
  },
  {
   "cell_type": "code",
   "execution_count": 18,
   "id": "96590068",
   "metadata": {},
   "outputs": [
    {
     "data": {
      "text/plain": [
       "True"
      ]
     },
     "execution_count": 18,
     "metadata": {},
     "output_type": "execute_result"
    }
   ],
   "source": [
    "# Проверка, заканчивается ли строка подстрокой\n",
    "ends_with = s.endswith(\"123\")  \n",
    "ends_with"
   ]
  },
  {
   "cell_type": "code",
   "execution_count": 23,
   "id": "f5f1f88d",
   "metadata": {},
   "outputs": [
    {
     "data": {
      "text/plain": [
       "(25, 26)"
      ]
     },
     "execution_count": 23,
     "metadata": {},
     "output_type": "execute_result"
    }
   ],
   "source": [
    "# Поиск подстроки, возвращает индекс\n",
    "index1 = s.find(\"2\")\n",
    "index2 = s.find(\"3\")\n",
    "index1, index2"
   ]
  },
  {
   "cell_type": "code",
   "execution_count": 26,
   "id": "db8f3645",
   "metadata": {},
   "outputs": [
    {
     "data": {
      "text/plain": [
       "(26, 0)"
      ]
     },
     "execution_count": 26,
     "metadata": {},
     "output_type": "execute_result"
    }
   ],
   "source": [
    "# Поиск подстроки с конца\n",
    "index_right = s.rfind(\"3\")\n",
    "index_right2 = s.rfind(\"P\")\n",
    "index_right, index_right2"
   ]
  },
  {
   "cell_type": "code",
   "execution_count": 28,
   "id": "c759573e",
   "metadata": {},
   "outputs": [
    {
     "data": {
      "text/plain": [
       "'normal distribution 123'"
      ]
     },
     "execution_count": 28,
     "metadata": {},
     "output_type": "execute_result"
    }
   ],
   "source": [
    "# Замена подстроки\n",
    "replaced_s = s.replace(\"Paranormal\", \"normal\")  \n",
    "s = replaced_s\n",
    "s"
   ]
  },
  {
   "cell_type": "code",
   "execution_count": 29,
   "id": "55a9a06e",
   "metadata": {},
   "outputs": [
    {
     "data": {
      "text/plain": [
       "'Normal distribution 123'"
      ]
     },
     "execution_count": 29,
     "metadata": {},
     "output_type": "execute_result"
    }
   ],
   "source": [
    "s = s.capitalize()\n",
    "s"
   ]
  },
  {
   "cell_type": "markdown",
   "id": "5555d63e",
   "metadata": {},
   "source": [
    "#### Форматирование строк"
   ]
  },
  {
   "cell_type": "code",
   "execution_count": 30,
   "id": "c80b5ee8",
   "metadata": {},
   "outputs": [
    {
     "data": {
      "text/plain": [
       "['Normal', 'distribution', '123']"
      ]
     },
     "execution_count": 30,
     "metadata": {},
     "output_type": "execute_result"
    }
   ],
   "source": [
    "# Разделение строки по пробелам\n",
    "words = s.split()  \n",
    "words"
   ]
  },
  {
   "cell_type": "code",
   "execution_count": 32,
   "id": "1501c08e",
   "metadata": {},
   "outputs": [
    {
     "data": {
      "text/plain": [
       "'Normal,distribution,123'"
      ]
     },
     "execution_count": 32,
     "metadata": {},
     "output_type": "execute_result"
    }
   ],
   "source": [
    "replaced_s = s.replace(\" \", \",\")\n",
    "replaced_s"
   ]
  },
  {
   "cell_type": "code",
   "execution_count": 33,
   "id": "c0a7e0b0",
   "metadata": {},
   "outputs": [
    {
     "data": {
      "text/plain": [
       "['Normal', 'distribution', '123']"
      ]
     },
     "execution_count": 33,
     "metadata": {},
     "output_type": "execute_result"
    }
   ],
   "source": [
    "# Разделение строки по запятой\n",
    "parts = replaced_s.split(\",\") \n",
    "parts"
   ]
  },
  {
   "cell_type": "code",
   "execution_count": 34,
   "id": "03882aa7",
   "metadata": {},
   "outputs": [
    {
     "data": {
      "text/plain": [
       "'Normal distribution 123'"
      ]
     },
     "execution_count": 34,
     "metadata": {},
     "output_type": "execute_result"
    }
   ],
   "source": [
    "# Объединение списка строк в одну строку\n",
    "joined_s = \" \".join(parts) \n",
    "joined_s"
   ]
  },
  {
   "cell_type": "code",
   "execution_count": 36,
   "id": "5c4a1a13",
   "metadata": {},
   "outputs": [
    {
     "data": {
      "text/plain": [
       "'Hello, Python!'"
      ]
     },
     "execution_count": 36,
     "metadata": {},
     "output_type": "execute_result"
    }
   ],
   "source": [
    "# Форматирование с использованием f-строк (Python 3.6+)\n",
    "name = \"Python\"\n",
    "formatted_s = f\"Hello, {name}!\" \n",
    "formatted_s "
   ]
  },
  {
   "cell_type": "code",
   "execution_count": 37,
   "id": "b903ab14",
   "metadata": {},
   "outputs": [
    {
     "data": {
      "text/plain": [
       "'Norma'"
      ]
     },
     "execution_count": 37,
     "metadata": {},
     "output_type": "execute_result"
    }
   ],
   "source": [
    "# Срез строки (начало включительно, конец не включительно)\n",
    "sub_s = s[0:5] \n",
    "sub_s"
   ]
  },
  {
   "cell_type": "code",
   "execution_count": 38,
   "id": "070007ad",
   "metadata": {},
   "outputs": [
    {
     "data": {
      "text/plain": [
       "'Nra itiuin13'"
      ]
     },
     "execution_count": 38,
     "metadata": {},
     "output_type": "execute_result"
    }
   ],
   "source": [
    "# Срез с шагом\n",
    "step_s = s[::2]  \n",
    "step_s"
   ]
  },
  {
   "cell_type": "code",
   "execution_count": 40,
   "id": "c28e6a0d",
   "metadata": {},
   "outputs": [
    {
     "data": {
      "text/plain": [
       "'Normal'"
      ]
     },
     "execution_count": 40,
     "metadata": {},
     "output_type": "execute_result"
    }
   ],
   "source": [
    "# Срез от начала до определенного индекса\n",
    "start_slice = s[:6]  \n",
    "start_slice"
   ]
  },
  {
   "cell_type": "code",
   "execution_count": 41,
   "id": "866135f2",
   "metadata": {},
   "outputs": [
    {
     "data": {
      "text/plain": [
       "'distribution 123'"
      ]
     },
     "execution_count": 41,
     "metadata": {},
     "output_type": "execute_result"
    }
   ],
   "source": [
    "#  Срез от определенного индекса до конца\n",
    "end_slice = s[7:]  \n",
    "end_slice"
   ]
  },
  {
   "cell_type": "code",
   "execution_count": 42,
   "id": "0dd14a0c",
   "metadata": {},
   "outputs": [
    {
     "data": {
      "text/plain": [
       "['N',\n",
       " 'o',\n",
       " 'r',\n",
       " 'm',\n",
       " 'a',\n",
       " 'l',\n",
       " ' ',\n",
       " 'd',\n",
       " 'i',\n",
       " 's',\n",
       " 't',\n",
       " 'r',\n",
       " 'i',\n",
       " 'b',\n",
       " 'u',\n",
       " 't',\n",
       " 'i',\n",
       " 'o',\n",
       " 'n',\n",
       " ' ',\n",
       " '1',\n",
       " '2',\n",
       " '3']"
      ]
     },
     "execution_count": 42,
     "metadata": {},
     "output_type": "execute_result"
    }
   ],
   "source": [
    "# Преобразование строки в список символов\n",
    "chars = list(s)\n",
    "chars"
   ]
  },
  {
   "cell_type": "markdown",
   "id": "0994fade",
   "metadata": {},
   "source": [
    "🗿🗿🗿🗿🗿🗿🗿🗿🗿🗿🗿🗿🗿🗿🗿🗿🗿🗿🗿🗿🗿🗿🗿🗿🗿🗿🗿🗿🗿🗿🗿🗿🗿🗿🗿🗿🗿🗿🗿🗿🗿🗿🗿🗿🗿🗿🗿🗿🗿🗿🗿🗿🗿🗿🗿🗿🗿🗿🗿🗿🗿🗿🗿🗿🗿🗿🗿🗿🗿🗿🗿🗿🗿"
   ]
  },
  {
   "cell_type": "code",
   "execution_count": null,
   "id": "e9dd558f",
   "metadata": {},
   "outputs": [],
   "source": []
  },
  {
   "cell_type": "code",
   "execution_count": null,
   "id": "684eb0a1",
   "metadata": {},
   "outputs": [],
   "source": []
  }
 ],
 "metadata": {
  "kernelspec": {
   "display_name": "Python 3 (ipykernel)",
   "language": "python",
   "name": "python3"
  },
  "language_info": {
   "codemirror_mode": {
    "name": "ipython",
    "version": 3
   },
   "file_extension": ".py",
   "mimetype": "text/x-python",
   "name": "python",
   "nbconvert_exporter": "python",
   "pygments_lexer": "ipython3",
   "version": "3.10.9"
  }
 },
 "nbformat": 4,
 "nbformat_minor": 5
}
